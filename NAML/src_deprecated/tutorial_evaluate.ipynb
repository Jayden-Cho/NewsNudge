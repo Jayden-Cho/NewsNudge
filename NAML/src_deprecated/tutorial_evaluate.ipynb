{
 "cells": [
  {
   "cell_type": "code",
   "execution_count": 1,
   "metadata": {},
   "outputs": [
    {
     "data": {
      "text/plain": [
       "NAML(\n",
       "  (news_encoder): NewsEncoder(\n",
       "    (text_encoders): ModuleDict(\n",
       "      (abstract): TextEncoder(\n",
       "        (word_embedding): Embedding(70976, 300, padding_idx=0)\n",
       "        (CNN): Conv2d(1, 300, kernel_size=(3, 300), stride=(1, 1), padding=(1, 0))\n",
       "        (additive_attention): AdditiveAttention(\n",
       "          (linear): Linear(in_features=300, out_features=200, bias=True)\n",
       "        )\n",
       "      )\n",
       "      (title): TextEncoder(\n",
       "        (word_embedding): Embedding(70976, 300, padding_idx=0)\n",
       "        (CNN): Conv2d(1, 300, kernel_size=(3, 300), stride=(1, 1), padding=(1, 0))\n",
       "        (additive_attention): AdditiveAttention(\n",
       "          (linear): Linear(in_features=300, out_features=200, bias=True)\n",
       "        )\n",
       "      )\n",
       "    )\n",
       "    (element_encoders): ModuleDict(\n",
       "      (category): ElementEncoder(\n",
       "        (embedding): Embedding(275, 100, padding_idx=0)\n",
       "        (linear): Linear(in_features=100, out_features=300, bias=True)\n",
       "      )\n",
       "    )\n",
       "    (final_attention): AdditiveAttention(\n",
       "      (linear): Linear(in_features=300, out_features=200, bias=True)\n",
       "    )\n",
       "  )\n",
       "  (user_encoder): UserEncoder(\n",
       "    (additive_attention): AdditiveAttention(\n",
       "      (linear): Linear(in_features=300, out_features=200, bias=True)\n",
       "    )\n",
       "  )\n",
       "  (click_predictor): DotProductClickPredictor()\n",
       ")"
      ]
     },
     "execution_count": 1,
     "metadata": {},
     "output_type": "execute_result"
    }
   ],
   "source": [
    "from NN_evaluate import *\n",
    "\n",
    "model = Model(config).to(device)\n",
    "model.eval()"
   ]
  },
  {
   "cell_type": "code",
   "execution_count": 2,
   "metadata": {},
   "outputs": [
    {
     "name": "stderr",
     "output_type": "stream",
     "text": [
      "Calculating vectors for news: 100%|██████████| 1/1 [00:02<00:00,  2.35s/it]\n"
     ]
    }
   ],
   "source": [
    "directory = '../data/NewsNudge'\n",
    "num_workers = config.num_workers\n",
    "max_count = sys.maxsize\n",
    "\n",
    "news_dataset = NewsDataset(path.join(directory, 'NN_news_parsed.tsv'))\n",
    "news_dataloader = DataLoader(news_dataset,\n",
    "                                batch_size=config.batch_size * 16,\n",
    "                                shuffle=False,\n",
    "                                num_workers=config.num_workers,\n",
    "                                drop_last=False,\n",
    "                                pin_memory=True)\n",
    "\n",
    "news2vector = {}\n",
    "for minibatch in tqdm(news_dataloader,\n",
    "                        desc=\"Calculating vectors for news\"):\n",
    "    news_ids = minibatch[\"id\"]\n",
    "    if any(id not in news2vector for id in news_ids):\n",
    "        news_vector = model.get_news_vector(minibatch)\n",
    "        for id, vector in zip(news_ids, news_vector):\n",
    "            if id not in news2vector:\n",
    "                news2vector[id] = vector\n",
    "\n",
    "news2vector['PADDED_NEWS'] = torch.zeros(\n",
    "    list(news2vector.values())[0].size())"
   ]
  },
  {
   "cell_type": "code",
   "execution_count": 3,
   "metadata": {},
   "outputs": [
    {
     "name": "stderr",
     "output_type": "stream",
     "text": [
      "Calculating vectors for users: 100%|██████████| 1/1 [00:06<00:00,  6.78s/it]\n"
     ]
    }
   ],
   "source": [
    "user_dataset = UserDataset(path.join(directory, 'NN_behaviors.tsv'),\n",
    "                            '../data/NewsNudge/NN_user2int.tsv')\n",
    "user_dataloader = DataLoader(user_dataset,\n",
    "                                batch_size=config.batch_size * 16,\n",
    "                                shuffle=False,\n",
    "                                num_workers=config.num_workers,\n",
    "                                drop_last=False,\n",
    "                                pin_memory=True)\n",
    "\n",
    "user2vector = {}\n",
    "for minibatch in tqdm(user_dataloader,\n",
    "                        desc=\"Calculating vectors for users\"):\n",
    "    user_strings = minibatch[\"clicked_news_string\"]\n",
    "    if any(user_string not in user2vector for user_string in user_strings):\n",
    "        clicked_news_vector = torch.stack([\n",
    "            torch.stack([news2vector[x].to(device) for x in news_list],\n",
    "                        dim=0) for news_list in minibatch[\"clicked_news\"]\n",
    "        ],\n",
    "                                            dim=0).transpose(0, 1)\n",
    "        if model_name == 'LSTUR':\n",
    "            user_vector = model.get_user_vector(\n",
    "                minibatch['user'], minibatch['clicked_news_length'],\n",
    "                clicked_news_vector)\n",
    "        else:\n",
    "            user_vector = model.get_user_vector(clicked_news_vector)\n",
    "        for user, vector in zip(user_strings, user_vector):\n",
    "            if user not in user2vector:\n",
    "\n",
    "                user2vector[user] = vector"
   ]
  },
  {
   "cell_type": "code",
   "execution_count": 4,
   "metadata": {},
   "outputs": [],
   "source": [
    "behaviors_dataset = BehaviorsDataset(path.join(directory, 'NN_behaviors.tsv'))\n",
    "behaviors_dataloader = DataLoader(behaviors_dataset,\n",
    "                                    batch_size=1,\n",
    "                                    shuffle=False,\n",
    "                                    num_workers=config.num_workers)"
   ]
  },
  {
   "cell_type": "code",
   "execution_count": 15,
   "metadata": {},
   "outputs": [],
   "source": [
    "candidate_news_vector = news2vector['N4']\n",
    "user_vector = user2vector['N0 N1 N2 N3']"
   ]
  },
  {
   "cell_type": "code",
   "execution_count": 17,
   "metadata": {},
   "outputs": [],
   "source": [
    "from model.general.click_predictor.dot_product import DotProductClickPredictor\n",
    "click_predictor = DotProductClickPredictor()"
   ]
  },
  {
   "cell_type": "code",
   "execution_count": 19,
   "metadata": {},
   "outputs": [
    {
     "data": {
      "text/plain": [
       "torch.Size([1, 300])"
      ]
     },
     "execution_count": 19,
     "metadata": {},
     "output_type": "execute_result"
    }
   ],
   "source": [
    "candidate_news_vector.unsqueeze(dim=0).shape"
   ]
  },
  {
   "cell_type": "code",
   "execution_count": 24,
   "metadata": {},
   "outputs": [
    {
     "data": {
      "text/plain": [
       "tensor(1.0572, grad_fn=<DotBackward0>)"
      ]
     },
     "execution_count": 24,
     "metadata": {},
     "output_type": "execute_result"
    }
   ],
   "source": [
    "torch.dot(news2vector['N5'], user_vector)"
   ]
  },
  {
   "cell_type": "code",
   "execution_count": 25,
   "metadata": {},
   "outputs": [
    {
     "data": {
      "text/plain": [
       "tensor(1.1733, grad_fn=<DotBackward0>)"
      ]
     },
     "execution_count": 25,
     "metadata": {},
     "output_type": "execute_result"
    }
   ],
   "source": [
    "torch.dot(news2vector['N4'], user_vector)"
   ]
  },
  {
   "cell_type": "code",
   "execution_count": 18,
   "metadata": {},
   "outputs": [
    {
     "ename": "RuntimeError",
     "evalue": "batch1 must be a 3D tensor",
     "output_type": "error",
     "traceback": [
      "\u001b[0;31m---------------------------------------------------------------------------\u001b[0m",
      "\u001b[0;31mRuntimeError\u001b[0m                              Traceback (most recent call last)",
      "Cell \u001b[0;32mIn[18], line 1\u001b[0m\n\u001b[0;32m----> 1\u001b[0m click_predictor(candidate_news_vector\u001b[39m.\u001b[39;49munsqueeze(dim\u001b[39m=\u001b[39;49m\u001b[39m0\u001b[39;49m), user_vector\u001b[39m.\u001b[39;49munsqueeze(dim\u001b[39m=\u001b[39;49m\u001b[39m0\u001b[39;49m))\n",
      "File \u001b[0;32m/Library/Frameworks/Python.framework/Versions/3.11/lib/python3.11/site-packages/torch/nn/modules/module.py:1501\u001b[0m, in \u001b[0;36mModule._call_impl\u001b[0;34m(self, *args, **kwargs)\u001b[0m\n\u001b[1;32m   1496\u001b[0m \u001b[39m# If we don't have any hooks, we want to skip the rest of the logic in\u001b[39;00m\n\u001b[1;32m   1497\u001b[0m \u001b[39m# this function, and just call forward.\u001b[39;00m\n\u001b[1;32m   1498\u001b[0m \u001b[39mif\u001b[39;00m \u001b[39mnot\u001b[39;00m (\u001b[39mself\u001b[39m\u001b[39m.\u001b[39m_backward_hooks \u001b[39mor\u001b[39;00m \u001b[39mself\u001b[39m\u001b[39m.\u001b[39m_backward_pre_hooks \u001b[39mor\u001b[39;00m \u001b[39mself\u001b[39m\u001b[39m.\u001b[39m_forward_hooks \u001b[39mor\u001b[39;00m \u001b[39mself\u001b[39m\u001b[39m.\u001b[39m_forward_pre_hooks\n\u001b[1;32m   1499\u001b[0m         \u001b[39mor\u001b[39;00m _global_backward_pre_hooks \u001b[39mor\u001b[39;00m _global_backward_hooks\n\u001b[1;32m   1500\u001b[0m         \u001b[39mor\u001b[39;00m _global_forward_hooks \u001b[39mor\u001b[39;00m _global_forward_pre_hooks):\n\u001b[0;32m-> 1501\u001b[0m     \u001b[39mreturn\u001b[39;00m forward_call(\u001b[39m*\u001b[39;49margs, \u001b[39m*\u001b[39;49m\u001b[39m*\u001b[39;49mkwargs)\n\u001b[1;32m   1502\u001b[0m \u001b[39m# Do not call functions when jit is used\u001b[39;00m\n\u001b[1;32m   1503\u001b[0m full_backward_hooks, non_full_backward_hooks \u001b[39m=\u001b[39m [], []\n",
      "File \u001b[0;32m~/Library/Mobile Documents/com~apple~CloudDocs/Documents/NewsNudge/NewsRecommendation/src/model/general/click_predictor/dot_product.py:17\u001b[0m, in \u001b[0;36mDotProductClickPredictor.forward\u001b[0;34m(self, candidate_news_vector, user_vector)\u001b[0m\n\u001b[1;32m      9\u001b[0m \u001b[39m\u001b[39m\u001b[39m\"\"\"\u001b[39;00m\n\u001b[1;32m     10\u001b[0m \u001b[39mArgs:\u001b[39;00m\n\u001b[1;32m     11\u001b[0m \u001b[39m    candidate_news_vector: batch_size, candidate_size, X\u001b[39;00m\n\u001b[0;32m   (...)\u001b[0m\n\u001b[1;32m     14\u001b[0m \u001b[39m    (shape): batch_size\u001b[39;00m\n\u001b[1;32m     15\u001b[0m \u001b[39m\"\"\"\u001b[39;00m\n\u001b[1;32m     16\u001b[0m \u001b[39m# batch_size, candidate_size\u001b[39;00m\n\u001b[0;32m---> 17\u001b[0m probability \u001b[39m=\u001b[39m torch\u001b[39m.\u001b[39;49mbmm(candidate_news_vector,\n\u001b[1;32m     18\u001b[0m                         user_vector\u001b[39m.\u001b[39;49munsqueeze(dim\u001b[39m=\u001b[39;49m\u001b[39m-\u001b[39;49m\u001b[39m1\u001b[39;49m))\u001b[39m.\u001b[39msqueeze(dim\u001b[39m=\u001b[39m\u001b[39m-\u001b[39m\u001b[39m1\u001b[39m)\n\u001b[1;32m     19\u001b[0m \u001b[39mreturn\u001b[39;00m probability\n",
      "\u001b[0;31mRuntimeError\u001b[0m: batch1 must be a 3D tensor"
     ]
    }
   ],
   "source": [
    "click_predictor(candidate_news_vector.unsqueeze(dim=0), user_vector.unsqueeze(dim=0))"
   ]
  },
  {
   "cell_type": "code",
   "execution_count": 14,
   "metadata": {},
   "outputs": [
    {
     "ename": "AttributeError",
     "evalue": "'tuple' object has no attribute 'squeeze'",
     "output_type": "error",
     "traceback": [
      "\u001b[0;31m---------------------------------------------------------------------------\u001b[0m",
      "\u001b[0;31mAttributeError\u001b[0m                            Traceback (most recent call last)",
      "Cell \u001b[0;32mIn[14], line 1\u001b[0m\n\u001b[0;32m----> 1\u001b[0m (candidate_news_vector\u001b[39m.\u001b[39;49munsqueeze(dim\u001b[39m=\u001b[39;49m\u001b[39m0\u001b[39;49m), user_vector\u001b[39m.\u001b[39;49munsqueeze(dim\u001b[39m=\u001b[39;49m\u001b[39m0\u001b[39;49m))\u001b[39m.\u001b[39;49msqueeze(dim\u001b[39m=\u001b[39m\u001b[39m0\u001b[39m)\n",
      "\u001b[0;31mAttributeError\u001b[0m: 'tuple' object has no attribute 'squeeze'"
     ]
    }
   ],
   "source": []
  },
  {
   "cell_type": "code",
   "execution_count": 10,
   "metadata": {},
   "outputs": [
    {
     "ename": "RuntimeError",
     "evalue": "batch1 must be a 3D tensor",
     "output_type": "error",
     "traceback": [
      "\u001b[0;31m---------------------------------------------------------------------------\u001b[0m",
      "\u001b[0;31mRuntimeError\u001b[0m                              Traceback (most recent call last)",
      "Cell \u001b[0;32mIn[10], line 1\u001b[0m\n\u001b[0;32m----> 1\u001b[0m model\u001b[39m.\u001b[39;49mget_prediction(candidate_news_vector, user_vector)\n",
      "File \u001b[0;32m~/Library/Mobile Documents/com~apple~CloudDocs/Documents/NewsNudge/NewsRecommendation/src/model/NAML/__init__.py:91\u001b[0m, in \u001b[0;36mNAML.get_prediction\u001b[0;34m(self, news_vector, user_vector)\u001b[0m\n\u001b[1;32m     83\u001b[0m \u001b[39m\u001b[39m\u001b[39m\"\"\"\u001b[39;00m\n\u001b[1;32m     84\u001b[0m \u001b[39mArgs:\u001b[39;00m\n\u001b[1;32m     85\u001b[0m \u001b[39m    news_vector: candidate_size, word_embedding_dim\u001b[39;00m\n\u001b[0;32m   (...)\u001b[0m\n\u001b[1;32m     88\u001b[0m \u001b[39m    click_probability: candidate_size\u001b[39;00m\n\u001b[1;32m     89\u001b[0m \u001b[39m\"\"\"\u001b[39;00m\n\u001b[1;32m     90\u001b[0m \u001b[39m# candidate_size\u001b[39;00m\n\u001b[0;32m---> 91\u001b[0m \u001b[39mreturn\u001b[39;00m \u001b[39mself\u001b[39;49m\u001b[39m.\u001b[39;49mclick_predictor(\n\u001b[1;32m     92\u001b[0m     news_vector\u001b[39m.\u001b[39;49munsqueeze(dim\u001b[39m=\u001b[39;49m\u001b[39m0\u001b[39;49m),\n\u001b[1;32m     93\u001b[0m     user_vector\u001b[39m.\u001b[39;49munsqueeze(dim\u001b[39m=\u001b[39;49m\u001b[39m0\u001b[39;49m))\u001b[39m.\u001b[39msqueeze(dim\u001b[39m=\u001b[39m\u001b[39m0\u001b[39m)\n",
      "File \u001b[0;32m/Library/Frameworks/Python.framework/Versions/3.11/lib/python3.11/site-packages/torch/nn/modules/module.py:1501\u001b[0m, in \u001b[0;36mModule._call_impl\u001b[0;34m(self, *args, **kwargs)\u001b[0m\n\u001b[1;32m   1496\u001b[0m \u001b[39m# If we don't have any hooks, we want to skip the rest of the logic in\u001b[39;00m\n\u001b[1;32m   1497\u001b[0m \u001b[39m# this function, and just call forward.\u001b[39;00m\n\u001b[1;32m   1498\u001b[0m \u001b[39mif\u001b[39;00m \u001b[39mnot\u001b[39;00m (\u001b[39mself\u001b[39m\u001b[39m.\u001b[39m_backward_hooks \u001b[39mor\u001b[39;00m \u001b[39mself\u001b[39m\u001b[39m.\u001b[39m_backward_pre_hooks \u001b[39mor\u001b[39;00m \u001b[39mself\u001b[39m\u001b[39m.\u001b[39m_forward_hooks \u001b[39mor\u001b[39;00m \u001b[39mself\u001b[39m\u001b[39m.\u001b[39m_forward_pre_hooks\n\u001b[1;32m   1499\u001b[0m         \u001b[39mor\u001b[39;00m _global_backward_pre_hooks \u001b[39mor\u001b[39;00m _global_backward_hooks\n\u001b[1;32m   1500\u001b[0m         \u001b[39mor\u001b[39;00m _global_forward_hooks \u001b[39mor\u001b[39;00m _global_forward_pre_hooks):\n\u001b[0;32m-> 1501\u001b[0m     \u001b[39mreturn\u001b[39;00m forward_call(\u001b[39m*\u001b[39;49margs, \u001b[39m*\u001b[39;49m\u001b[39m*\u001b[39;49mkwargs)\n\u001b[1;32m   1502\u001b[0m \u001b[39m# Do not call functions when jit is used\u001b[39;00m\n\u001b[1;32m   1503\u001b[0m full_backward_hooks, non_full_backward_hooks \u001b[39m=\u001b[39m [], []\n",
      "File \u001b[0;32m~/Library/Mobile Documents/com~apple~CloudDocs/Documents/NewsNudge/NewsRecommendation/src/model/general/click_predictor/dot_product.py:17\u001b[0m, in \u001b[0;36mDotProductClickPredictor.forward\u001b[0;34m(self, candidate_news_vector, user_vector)\u001b[0m\n\u001b[1;32m      9\u001b[0m \u001b[39m\u001b[39m\u001b[39m\"\"\"\u001b[39;00m\n\u001b[1;32m     10\u001b[0m \u001b[39mArgs:\u001b[39;00m\n\u001b[1;32m     11\u001b[0m \u001b[39m    candidate_news_vector: batch_size, candidate_size, X\u001b[39;00m\n\u001b[0;32m   (...)\u001b[0m\n\u001b[1;32m     14\u001b[0m \u001b[39m    (shape): batch_size\u001b[39;00m\n\u001b[1;32m     15\u001b[0m \u001b[39m\"\"\"\u001b[39;00m\n\u001b[1;32m     16\u001b[0m \u001b[39m# batch_size, candidate_size\u001b[39;00m\n\u001b[0;32m---> 17\u001b[0m probability \u001b[39m=\u001b[39m torch\u001b[39m.\u001b[39;49mbmm(candidate_news_vector,\n\u001b[1;32m     18\u001b[0m                         user_vector\u001b[39m.\u001b[39;49munsqueeze(dim\u001b[39m=\u001b[39;49m\u001b[39m-\u001b[39;49m\u001b[39m1\u001b[39;49m))\u001b[39m.\u001b[39msqueeze(dim\u001b[39m=\u001b[39m\u001b[39m-\u001b[39m\u001b[39m1\u001b[39m)\n\u001b[1;32m     19\u001b[0m \u001b[39mreturn\u001b[39;00m probability\n",
      "\u001b[0;31mRuntimeError\u001b[0m: batch1 must be a 3D tensor"
     ]
    }
   ],
   "source": [
    "model.get_prediction(candidate_news_vector, user_vector)"
   ]
  },
  {
   "cell_type": "code",
   "execution_count": null,
   "metadata": {},
   "outputs": [],
   "source": [
    "\n",
    "\n",
    "\n",
    "\n",
    "\n",
    "    count = 0\n",
    "\n",
    "    tasks = []\n",
    "\n",
    "    for minibatch in tqdm(behaviors_dataloader,\n",
    "                          desc=\"Calculating probabilities\"):\n",
    "        count += 1\n",
    "        if count == max_count:\n",
    "            break\n",
    "        print('before ---------------')\n",
    "        candidate_news_vector = torch.stack([\n",
    "            news2vector[news[0].split('-')[0]]\n",
    "            for news in minibatch['impressions']\n",
    "        ],\n",
    "                                            dim=0)\n",
    "        print('after -------------')\n",
    "        user_vector = user2vector[minibatch['clicked_news_string'][0]]\n",
    "        click_probability = model.get_prediction(candidate_news_vector,\n",
    "                                                 user_vector)\n",
    "\n",
    "        y_pred = click_probability.tolist()\n",
    "        y_true = [\n",
    "            int(news[0].split('-')[1]) for news in minibatch['impressions']\n",
    "        ]\n",
    "\n",
    "        tasks.append((y_true, y_pred))\n",
    "\n",
    "    with Pool(processes=num_workers) as pool:\n",
    "        results = pool.map(calculate_single_user_metric, tasks)\n",
    "\n",
    "    aucs, mrrs, ndcg5s, ndcg10s = np.array(results).T\n",
    "    return np.nanmean(aucs), np.nanmean(mrrs), np.nanmean(ndcg5s), np.nanmean(\n",
    "        ndcg10s)"
   ]
  },
  {
   "cell_type": "code",
   "execution_count": 2,
   "metadata": {},
   "outputs": [
    {
     "name": "stderr",
     "output_type": "stream",
     "text": [
      "Calculating vectors for news: 100%|██████████| 1/1 [00:02<00:00,  2.23s/it]\n",
      "Calculating vectors for users: 100%|██████████| 1/1 [00:06<00:00,  6.84s/it]\n"
     ]
    },
    {
     "name": "stdout",
     "output_type": "stream",
     "text": [
      "{'N0': tensor([0.1376, 0.1147, 0.1934, 0.2844, 0.2133, 0.5514, 0.1780, 0.0857, 0.1166,\n",
      "        0.0814, 0.1260, 0.2140, 0.1292, 0.3674, 0.0950, 0.1165, 0.5374, 0.1074,\n",
      "        0.1394, 0.1172, 0.1989, 0.1393, 0.1076, 0.3027, 0.1198, 0.1364, 0.1157,\n",
      "        0.1090, 0.1381, 0.3676, 0.3471, 0.0715, 0.2496, 0.1741, 0.1697, 0.1456,\n",
      "        0.1080, 0.1889, 0.1161, 0.1321, 0.1018, 0.1299, 0.1056, 0.1279, 0.1305,\n",
      "        0.1454, 0.1614, 0.2847, 0.1031, 0.4811, 0.1027, 0.1602, 0.1827, 0.1241,\n",
      "        0.1129, 0.1921, 0.2036, 0.1209, 0.2658, 0.1053, 0.1741, 0.1526, 0.2308,\n",
      "        0.1867, 0.1637, 0.2980, 0.1073, 0.1937, 0.3102, 0.0566, 0.0890, 0.3033,\n",
      "        0.1145, 0.3117, 0.0752, 0.1714, 0.1790, 0.0826, 0.5822, 0.2779, 0.1193,\n",
      "        0.0987, 0.1657, 0.1468, 0.4255, 0.1246, 0.1702, 0.2166, 0.1565, 0.1349,\n",
      "        0.1595, 0.1613, 0.1052, 0.3013, 0.1490, 0.1406, 0.1506, 0.2642, 0.0884,\n",
      "        0.2365, 0.4697, 0.1373, 0.2473, 0.1641, 0.3317, 0.1349, 0.2886, 0.1278,\n",
      "        0.1632, 0.1174, 0.2296, 0.1474, 0.7000, 0.3002, 0.0664, 0.1231, 0.2073,\n",
      "        0.1462, 0.1733, 0.1393, 0.5547, 0.3130, 0.3850, 0.1105, 0.2972, 0.1519,\n",
      "        0.1116, 0.1310, 0.1237, 0.3198, 0.1494, 0.1184, 0.1290, 0.1581, 0.1358,\n",
      "        0.0757, 0.1567, 0.0995, 0.0959, 0.1657, 0.3645, 0.1001, 0.1308, 0.1362,\n",
      "        0.1296, 0.1321, 0.2444, 0.1556, 0.3904, 0.1049, 0.1068, 0.1127, 0.2237,\n",
      "        0.2649, 0.1267, 0.1154, 0.3306, 0.0890, 0.5696, 0.1540, 0.1575, 0.4551,\n",
      "        0.1390, 0.4618, 0.1489, 0.1399, 0.1453, 0.1108, 0.3154, 0.2915, 0.1015,\n",
      "        0.1629, 0.1008, 0.2148, 0.4668, 0.1879, 0.5382, 0.1385, 0.1559, 0.7322,\n",
      "        0.1392, 0.1512, 0.1118, 0.1502, 0.1968, 0.1754, 0.0996, 0.1103, 0.0919,\n",
      "        0.4141, 0.2432, 0.1098, 0.1337, 0.1177, 0.2623, 0.3922, 0.2862, 0.1769,\n",
      "        0.0971, 0.1700, 0.1557, 0.1502, 0.1023, 0.1371, 0.2635, 0.1113, 0.2807,\n",
      "        0.1623, 0.1076, 0.1423, 0.1236, 0.1038, 0.0668, 0.1813, 0.0788, 0.2695,\n",
      "        0.1957, 0.3108, 0.5302, 0.1046, 0.4926, 0.1922, 0.1271, 0.1807, 0.1228,\n",
      "        0.1522, 0.1341, 0.3339, 0.2797, 0.1181, 0.2461, 0.3932, 0.1609, 0.1738,\n",
      "        0.5644, 0.2216, 0.2143, 0.1409, 0.3657, 0.1451, 0.2973, 0.4474, 0.1146,\n",
      "        0.1056, 0.0835, 0.1358, 0.0996, 0.1290, 0.1047, 0.0754, 0.1337, 0.5501,\n",
      "        0.1634, 0.1146, 0.1160, 0.4743, 0.2502, 0.1605, 0.4393, 0.1563, 0.2034,\n",
      "        0.1331, 0.1558, 0.2070, 0.3541, 0.1346, 0.4763, 0.4588, 0.0816, 0.1073,\n",
      "        0.1307, 0.1850, 0.1575, 0.1674, 0.2734, 0.1257, 0.0877, 0.1379, 0.1673,\n",
      "        0.1525, 0.2812, 0.0974, 0.3233, 0.1355, 0.1117, 0.1251, 0.1454, 0.2073,\n",
      "        0.1137, 0.1170, 0.0967, 0.0921, 0.1842, 0.3645, 0.1776, 0.1156, 0.4864,\n",
      "        0.1654, 0.0822, 0.2568]), 'N1': tensor([0.2459, 0.2650, 0.1750, 0.0816, 0.1399, 0.1057, 0.1344, 0.1023, 0.1550,\n",
      "        0.0788, 0.0511, 0.1486, 0.1373, 0.0881, 0.1996, 0.0941, 0.2418, 0.1187,\n",
      "        0.1148, 0.1011, 0.1449, 0.0922, 0.1417, 0.5746, 0.0910, 0.1367, 0.1103,\n",
      "        0.0797, 0.1026, 0.1512, 0.1215, 0.4047, 0.1365, 0.0694, 0.1486, 0.2785,\n",
      "        0.2214, 0.1379, 0.2100, 0.0954, 0.3811, 0.2015, 0.1308, 0.1648, 0.1397,\n",
      "        0.1115, 0.1174, 0.0826, 0.1311, 0.2723, 0.1384, 0.3246, 0.1553, 0.1581,\n",
      "        0.1194, 0.4901, 0.1520, 0.0780, 0.2525, 0.1294, 0.0963, 0.1220, 0.2933,\n",
      "        0.1425, 0.1535, 0.2687, 0.0909, 0.1404, 0.1356, 0.1462, 0.0864, 0.2442,\n",
      "        0.0614, 0.1572, 0.1770, 0.1076, 0.1530, 0.0997, 0.1434, 0.0937, 0.1230,\n",
      "        0.0781, 0.1696, 0.1720, 0.1108, 0.0835, 0.1275, 0.1378, 0.5077, 0.2615,\n",
      "        0.4551, 0.1115, 0.1318, 0.3734, 0.2378, 0.0740, 0.2884, 0.1842, 0.0837,\n",
      "        0.3758, 0.1526, 0.1510, 0.1360, 0.1888, 0.1977, 0.1162, 0.3124, 0.0952,\n",
      "        0.3132, 0.0743, 0.1779, 0.1400, 0.5427, 0.1376, 0.0923, 0.1091, 0.0887,\n",
      "        0.1223, 0.1312, 0.1180, 0.4528, 0.1093, 0.1763, 0.1164, 0.1177, 0.1126,\n",
      "        0.1377, 0.1163, 0.2622, 0.4649, 0.1405, 0.2428, 0.0976, 0.2651, 0.0856,\n",
      "        0.1471, 0.3456, 0.1058, 0.1306, 0.1356, 0.3208, 0.1206, 0.0737, 0.2874,\n",
      "        0.2768, 0.1388, 0.2401, 0.1392, 0.1380, 0.2851, 0.1118, 0.3889, 0.0902,\n",
      "        0.1085, 0.0890, 0.0532, 0.2316, 0.0699, 0.3872, 0.1891, 0.3656, 0.0887,\n",
      "        0.3604, 0.1139, 0.0725, 0.1198, 0.2381, 0.2326, 0.4360, 0.2410, 0.2800,\n",
      "        0.1253, 0.2834, 0.3991, 0.1239, 0.1044, 0.2288, 0.0964, 0.3229, 0.4625,\n",
      "        0.1623, 0.1774, 0.1400, 0.1685, 0.1330, 0.3226, 0.1241, 0.1039, 0.2515,\n",
      "        0.4312, 0.1538, 0.1328, 0.1103, 0.1829, 0.2292, 0.0722, 0.0876, 0.3261,\n",
      "        0.1334, 0.3232, 0.1329, 0.2207, 0.3026, 0.1265, 0.2019, 0.1118, 0.1347,\n",
      "        0.1078, 0.1045, 0.1378, 0.0750, 0.2397, 0.0997, 0.1387, 0.1016, 0.1065,\n",
      "        0.2540, 0.0874, 0.8006, 0.5963, 0.1115, 0.1281, 0.3218, 0.1080, 0.1276,\n",
      "        0.2873, 0.1046, 0.3974, 0.1103, 0.2600, 0.1246, 0.1656, 0.3042, 0.0818,\n",
      "        0.1076, 0.1027, 0.2521, 0.2719, 0.1306, 0.1326, 0.2873, 0.3280, 0.1217,\n",
      "        0.3633, 0.1057, 0.2763, 0.1402, 0.2230, 0.0971, 0.2437, 0.2205, 0.2456,\n",
      "        0.1004, 0.1181, 0.1038, 0.1193, 0.1474, 0.0889, 0.2904, 0.1462, 0.0925,\n",
      "        0.2297, 0.0950, 0.1184, 0.1013, 0.2510, 0.1085, 0.1521, 0.1150, 0.1182,\n",
      "        0.1064, 0.2724, 0.1146, 0.2170, 0.1152, 0.1167, 0.1077, 0.3588, 0.4213,\n",
      "        0.3706, 0.2812, 0.1320, 0.1168, 0.0831, 0.2338, 0.1148, 0.1439, 0.0693,\n",
      "        0.1091, 0.3408, 0.0609, 0.0760, 0.1373, 0.0855, 0.1184, 0.1388, 0.1873,\n",
      "        0.2641, 0.1439, 0.0864]), 'N2': tensor([0.3876, 0.0968, 0.1371, 0.1013, 0.2350, 0.1513, 0.1274, 0.1111, 0.3304,\n",
      "        0.4413, 0.1799, 0.1620, 0.1639, 0.1287, 0.2001, 0.1893, 0.1359, 0.1760,\n",
      "        0.3023, 0.1225, 0.2152, 0.4140, 0.3424, 0.1655, 0.5274, 0.1890, 0.7122,\n",
      "        0.1048, 0.2341, 0.2208, 0.1424, 0.1138, 0.3788, 0.1428, 0.4334, 0.2909,\n",
      "        0.2996, 0.1652, 0.1580, 0.1866, 0.1517, 0.3282, 0.1413, 0.2710, 0.1952,\n",
      "        0.7130, 0.3277, 0.1144, 0.1647, 0.1109, 0.1295, 0.1617, 0.2498, 0.2883,\n",
      "        0.1291, 0.2047, 0.0950, 0.1969, 0.2646, 0.1461, 0.3166, 0.0867, 0.1048,\n",
      "        0.2157, 0.1745, 0.1376, 0.1042, 0.3731, 0.1103, 0.2476, 0.2712, 0.1246,\n",
      "        0.1200, 0.1697, 0.3608, 0.1250, 0.0806, 0.1411, 0.2290, 0.0958, 0.1798,\n",
      "        0.2151, 0.1945, 0.4520, 0.1430, 0.1501, 0.1425, 0.3791, 0.1421, 0.3929,\n",
      "        0.4416, 0.1085, 0.1956, 0.3625, 0.1685, 0.1323, 0.1754, 0.1377, 0.0653,\n",
      "        0.1913, 0.4352, 0.1446, 0.1608, 0.3578, 0.1051, 0.0974, 0.2834, 0.1451,\n",
      "        0.1488, 0.3750, 0.1304, 0.1133, 0.2796, 0.1407, 0.0825, 0.3842, 0.2512,\n",
      "        0.0978, 0.1448, 0.4256, 0.6870, 0.4546, 0.1405, 0.1561, 0.1372, 0.3039,\n",
      "        0.1292, 0.3293, 0.1187, 0.4072, 0.1599, 0.1563, 0.3362, 0.0703, 0.2906,\n",
      "        0.1840, 0.2911, 0.1264, 0.3201, 0.3255, 0.1303, 0.2386, 0.3047, 0.4088,\n",
      "        0.2174, 0.1431, 0.2149, 0.3566, 0.2429, 0.1772, 0.0897, 0.0994, 0.1405,\n",
      "        0.2301, 0.1684, 0.1329, 0.1724, 0.6987, 0.2383, 0.1705, 0.1346, 0.1222,\n",
      "        0.2800, 0.1695, 0.3060, 0.0913, 0.2251, 0.1061, 0.1400, 0.5744, 0.3531,\n",
      "        0.5209, 0.1409, 0.3694, 0.4257, 0.1626, 0.3182, 0.0864, 0.3333, 0.3647,\n",
      "        0.5218, 0.1547, 0.2502, 0.1561, 0.3433, 0.1496, 0.1308, 0.1000, 0.1125,\n",
      "        0.4217, 0.1323, 0.1436, 0.1909, 0.5145, 0.1565, 0.2602, 0.1567, 0.1334,\n",
      "        0.3664, 0.2292, 0.1684, 0.1362, 0.1715, 0.1760, 0.4761, 0.1902, 0.1633,\n",
      "        0.3197, 0.1076, 0.2306, 0.2322, 0.2866, 0.0762, 0.1943, 0.1389, 0.1162,\n",
      "        0.5781, 0.2038, 0.1839, 0.5940, 0.1102, 0.6307, 0.0855, 0.4208, 0.2863,\n",
      "        0.1285, 0.1292, 0.1596, 0.1157, 0.1359, 0.4575, 0.2200, 0.1085, 0.1023,\n",
      "        0.5287, 0.0907, 0.1823, 0.1647, 0.4168, 0.2675, 0.1610, 0.1598, 0.1026,\n",
      "        0.6147, 0.1422, 0.1247, 0.1077, 0.3172, 0.1381, 0.1585, 0.1440, 0.4275,\n",
      "        0.1402, 0.1272, 0.1460, 0.1117, 0.1535, 0.2908, 0.1321, 0.1970, 0.5044,\n",
      "        0.2820, 0.1247, 0.1159, 0.3301, 0.3583, 0.1384, 0.3707, 0.4976, 0.1936,\n",
      "        0.2915, 0.1331, 0.1932, 0.1183, 0.1392, 0.2406, 0.0976, 0.1138, 0.1606,\n",
      "        0.1479, 0.1178, 0.1091, 0.1885, 0.1206, 0.3340, 0.1382, 0.1055, 0.2071,\n",
      "        0.1386, 0.1403, 0.3979, 0.3264, 0.2676, 0.2729, 0.1025, 0.1670, 0.1171,\n",
      "        0.3788, 0.5362, 0.1712]), 'N3': tensor([0.1635, 0.3084, 0.4349, 0.3841, 0.1260, 0.1446, 0.2956, 0.1791, 0.1640,\n",
      "        0.2182, 0.1349, 0.3357, 0.3287, 0.1317, 0.3748, 0.1306, 0.4819, 0.2007,\n",
      "        0.2331, 0.2955, 0.1652, 0.4280, 0.1894, 0.1842, 0.2323, 0.2228, 0.1369,\n",
      "        0.2498, 0.2299, 0.1972, 0.1418, 0.1065, 0.1888, 0.3924, 0.1166, 0.2451,\n",
      "        0.1296, 0.1661, 0.1213, 0.3980, 0.1240, 0.1689, 0.1252, 0.1684, 0.2726,\n",
      "        0.1385, 0.2496, 0.1335, 0.1604, 0.1292, 0.0891, 0.1911, 0.2314, 0.2363,\n",
      "        0.1804, 0.1270, 0.2314, 0.1537, 0.3311, 0.1740, 0.0963, 0.1555, 0.1600,\n",
      "        0.3980, 0.1481, 0.3441, 0.2499, 0.2100, 0.1523, 0.0999, 0.1985, 0.3272,\n",
      "        0.1390, 0.3721, 0.2740, 0.4470, 0.1415, 0.1748, 0.3932, 0.3106, 0.4175,\n",
      "        0.1106, 0.3552, 0.2350, 0.1215, 0.1679, 0.1918, 0.1589, 0.1546, 0.1655,\n",
      "        0.2833, 0.1109, 0.3383, 0.1554, 0.1809, 0.1397, 0.1920, 0.1165, 0.1427,\n",
      "        0.1953, 0.0887, 0.1831, 0.1291, 0.1660, 0.1545, 0.4247, 0.1558, 0.1484,\n",
      "        0.1356, 0.4029, 0.3664, 0.1457, 0.2352, 0.1103, 0.0805, 0.1680, 0.1158,\n",
      "        0.1649, 0.5630, 0.1437, 0.1369, 0.2162, 0.3542, 0.1495, 0.1448, 0.2051,\n",
      "        0.1282, 0.1289, 0.2284, 0.1317, 0.2370, 0.0926, 0.2560, 0.2736, 0.1405,\n",
      "        0.1760, 0.2084, 0.1569, 0.1511, 0.1802, 0.1317, 0.2095, 0.3274, 0.3529,\n",
      "        0.1882, 0.3285, 0.0967, 0.1803, 0.1865, 0.2908, 0.1954, 0.1008, 0.1493,\n",
      "        0.2419, 0.1335, 0.2363, 0.1608, 0.0826, 0.1603, 0.2152, 0.4126, 0.1797,\n",
      "        0.2470, 0.1853, 0.3874, 0.1229, 0.1524, 0.1156, 0.3144, 0.1861, 0.1137,\n",
      "        0.2059, 0.2061, 0.1808, 0.4141, 0.2073, 0.1051, 0.1432, 0.1357, 0.0829,\n",
      "        0.1534, 0.1645, 0.1664, 0.2177, 0.1200, 0.1505, 0.3502, 0.1427, 0.1267,\n",
      "        0.1580, 0.1173, 0.5128, 0.4273, 0.1459, 0.3537, 0.1550, 0.1840, 0.3299,\n",
      "        0.2052, 0.3953, 0.2920, 0.1552, 0.1260, 0.1449, 0.1807, 0.2438, 0.1615,\n",
      "        0.2317, 0.3112, 0.1625, 0.3727, 0.1970, 0.3138, 0.2325, 0.2380, 0.1865,\n",
      "        0.1493, 0.3451, 0.3557, 0.1272, 0.4028, 0.2167, 0.1566, 0.3608, 0.1048,\n",
      "        0.2518, 0.1726, 0.4296, 0.1799, 0.1398, 0.2503, 0.5258, 0.3626, 0.1679,\n",
      "        0.1294, 0.2572, 0.3636, 0.3420, 0.1678, 0.5273, 0.1853, 0.2152, 0.2708,\n",
      "        0.1132, 0.3079, 0.1195, 0.1026, 0.1531, 0.1782, 0.1453, 0.2368, 0.1435,\n",
      "        0.1727, 0.1088, 0.1411, 0.1947, 0.4810, 0.5085, 0.1627, 0.1728, 0.1802,\n",
      "        0.1908, 0.1593, 0.1496, 0.2367, 0.5099, 0.2623, 0.1299, 0.1300, 0.1812,\n",
      "        0.5304, 0.0890, 0.1336, 0.4759, 0.1701, 0.4801, 0.2937, 0.2635, 0.1956,\n",
      "        0.3733, 0.1818, 0.2534, 0.1447, 0.1389, 0.1758, 0.7414, 0.1687, 0.1689,\n",
      "        0.3541, 0.2210, 0.4080, 0.2101, 0.1644, 0.1575, 0.1661, 0.1643, 0.1780,\n",
      "        0.1251, 0.1221, 0.1301]), 'N4': tensor([0.2973, 0.1233, 0.1685, 0.1043, 0.1276, 0.1150, 0.1407, 0.1425, 0.1373,\n",
      "        0.3455, 0.2837, 0.1425, 0.4959, 0.1399, 0.1762, 0.3334, 0.1704, 0.2939,\n",
      "        0.1218, 0.3177, 0.1294, 0.3973, 0.1045, 0.1527, 0.1259, 0.1488, 0.1434,\n",
      "        0.1145, 0.1209, 0.2718, 0.2022, 0.4164, 0.2053, 0.1284, 0.3452, 0.6295,\n",
      "        0.1358, 0.1102, 0.1304, 0.1205, 0.4627, 0.1038, 0.3132, 0.1582, 0.9382,\n",
      "        0.1135, 0.1856, 0.1403, 0.1761, 0.1352, 0.1453, 0.0789, 0.4997, 0.1649,\n",
      "        0.2012, 0.0958, 0.1066, 0.8466, 0.1431, 0.1399, 0.4769, 0.2446, 0.1099,\n",
      "        0.1144, 0.6250, 0.3297, 0.2800, 0.1500, 0.2555, 0.0989, 0.4373, 0.1442,\n",
      "        0.1662, 0.4533, 0.0812, 0.3759, 0.1993, 0.3943, 0.1731, 0.1431, 0.0976,\n",
      "        0.4104, 0.1569, 0.3458, 0.1282, 0.1509, 0.2867, 0.1102, 0.2562, 0.1295,\n",
      "        0.1986, 0.0848, 0.1223, 0.1993, 0.0930, 0.1219, 0.4055, 0.0876, 0.1135,\n",
      "        0.1696, 0.0927, 0.3432, 0.1166, 0.3592, 0.1471, 0.1267, 0.1008, 0.1303,\n",
      "        0.1316, 0.3811, 0.2493, 0.2961, 0.2041, 0.1039, 0.1239, 0.1827, 0.2105,\n",
      "        0.4781, 0.1448, 0.4511, 0.3304, 0.4780, 0.1214, 0.2148, 0.1409, 0.3526,\n",
      "        0.1408, 0.1194, 0.4763, 0.1062, 0.5558, 0.2237, 0.1773, 0.1959, 0.1242,\n",
      "        0.1474, 0.1145, 0.2668, 0.1166, 0.4609, 0.1602, 0.1168, 0.0947, 0.1129,\n",
      "        0.2951, 0.1570, 0.2221, 0.0971, 0.2024, 0.2412, 0.1500, 0.4704, 0.3593,\n",
      "        0.0975, 0.2848, 0.0953, 0.1362, 0.1434, 0.0989, 0.3671, 0.2392, 0.1214,\n",
      "        0.3095, 0.1075, 0.0778, 0.2619, 0.1662, 0.3165, 0.4375, 0.1686, 0.2638,\n",
      "        0.1379, 0.3078, 0.0898, 0.1677, 0.2129, 0.3279, 0.2682, 0.1327, 0.1095,\n",
      "        0.1240, 0.1212, 0.4307, 0.2604, 0.1563, 0.1139, 0.1974, 0.0967, 0.3443,\n",
      "        0.2083, 0.0875, 0.1641, 0.2828, 0.2654, 0.3671, 0.0934, 0.0942, 0.3053,\n",
      "        0.1467, 0.5663, 0.1798, 0.3575, 0.4351, 0.1259, 0.1396, 0.1375, 0.3841,\n",
      "        0.1589, 0.2579, 0.1597, 0.1102, 0.1961, 0.5263, 0.1298, 0.1924, 0.1062,\n",
      "        0.1175, 0.3979, 0.1440, 0.1535, 0.1091, 0.1303, 0.3398, 0.1800, 0.1749,\n",
      "        0.4463, 0.2629, 0.2101, 0.2297, 0.1648, 0.4467, 0.4914, 0.1935, 0.1227,\n",
      "        0.1242, 0.1166, 0.1269, 0.1499, 0.1056, 0.1526, 0.5823, 0.2012, 0.1158,\n",
      "        0.5068, 0.4109, 0.1013, 0.4630, 0.3624, 0.2148, 0.3538, 0.1852, 0.3488,\n",
      "        0.3264, 0.1281, 0.5634, 0.3357, 0.2114, 0.4839, 0.1441, 0.1539, 0.1380,\n",
      "        0.2458, 0.1402, 0.6049, 0.1070, 0.1515, 0.0983, 0.4520, 0.1217, 0.1363,\n",
      "        0.2262, 0.2449, 0.1269, 0.1797, 0.1143, 0.4747, 0.1385, 0.2778, 0.1191,\n",
      "        0.0849, 0.1151, 0.5337, 0.1661, 0.3806, 0.1453, 0.3289, 0.2098, 0.1050,\n",
      "        0.1344, 0.1560, 0.1313, 0.0943, 0.1567, 0.1175, 0.1080, 0.3277, 0.3355,\n",
      "        0.1425, 0.3660, 0.1375]), 'N5': tensor([0.1143, 0.6133, 0.3922, 0.0769, 0.3635, 0.1047, 0.5601, 0.0853, 0.1205,\n",
      "        0.0970, 0.1171, 0.3533, 0.1008, 0.0891, 0.1289, 0.1273, 0.4868, 0.4221,\n",
      "        0.0785, 0.1912, 0.4901, 0.2468, 0.1400, 0.1633, 0.0483, 0.1187, 0.1425,\n",
      "        0.1634, 0.1324, 0.1832, 0.0932, 0.1033, 0.5267, 0.2180, 0.1479, 0.2205,\n",
      "        0.0862, 0.1546, 0.1290, 0.1625, 0.0802, 0.1308, 0.1190, 0.1347, 0.1677,\n",
      "        0.3658, 0.1084, 0.1412, 0.1709, 0.0952, 0.1721, 0.0727, 0.1221, 0.1415,\n",
      "        0.0778, 0.4111, 0.3323, 0.2903, 0.2491, 0.4188, 0.1209, 0.0834, 0.1116,\n",
      "        0.1547, 0.1364, 0.2209, 0.1351, 0.1331, 0.1297, 0.1105, 0.4908, 0.2979,\n",
      "        0.3155, 0.1982, 0.1008, 0.1761, 0.0887, 0.3680, 0.6004, 0.4911, 0.6086,\n",
      "        0.3989, 0.1021, 0.7688, 0.0725, 0.3295, 0.3593, 0.1164, 0.6533, 0.0903,\n",
      "        0.1753, 0.4724, 0.0983, 0.2490, 0.1302, 0.1294, 0.1382, 0.1547, 0.0875,\n",
      "        0.2313, 0.0729, 0.0983, 0.1396, 0.1789, 0.0820, 0.1340, 0.2843, 0.2008,\n",
      "        0.3620, 0.1050, 0.0824, 0.0998, 0.2735, 0.3808, 0.1365, 0.1013, 0.2635,\n",
      "        0.0964, 0.1694, 0.1188, 0.1564, 0.3164, 0.1086, 0.1466, 0.1267, 0.2230,\n",
      "        0.1553, 0.3113, 0.1128, 0.2560, 0.1406, 0.1228, 0.3781, 0.1596, 0.1372,\n",
      "        0.1189, 0.7772, 0.6906, 0.0963, 0.3621, 0.3700, 0.1160, 0.3799, 0.4590,\n",
      "        0.0838, 0.0923, 0.0956, 0.2602, 0.1331, 0.5925, 0.1144, 0.1106, 0.1254,\n",
      "        0.2322, 0.1405, 0.1054, 0.2525, 0.0875, 0.1264, 0.1585, 0.2818, 0.3640,\n",
      "        0.2839, 0.0994, 0.1057, 0.1393, 0.3511, 0.1253, 0.1165, 0.7115, 0.0805,\n",
      "        0.0756, 0.4811, 0.2090, 0.4476, 0.1353, 0.1032, 0.0975, 0.4220, 0.6630,\n",
      "        0.1457, 0.1288, 0.1036, 0.5816, 0.3418, 0.2885, 0.1890, 0.0713, 0.4037,\n",
      "        0.0747, 0.1825, 0.1553, 0.3097, 0.2973, 0.1195, 0.2210, 0.0804, 0.2204,\n",
      "        0.1053, 0.1208, 0.1477, 0.3589, 0.2922, 0.0799, 0.4349, 0.1141, 0.2709,\n",
      "        0.1391, 0.2428, 0.1285, 0.1133, 0.1427, 0.1092, 0.3041, 0.0915, 0.1148,\n",
      "        0.0591, 0.5386, 0.3274, 0.1265, 0.5316, 0.2376, 0.4079, 0.1334, 0.1123,\n",
      "        0.1285, 0.1019, 0.1447, 0.3316, 0.1056, 0.1360, 0.2389, 0.1052, 0.3995,\n",
      "        0.1657, 0.0982, 0.2310, 0.1414, 0.4425, 0.2699, 0.1150, 0.1586, 0.1073,\n",
      "        0.2173, 0.1385, 0.2100, 0.0747, 0.2082, 0.0812, 0.1348, 0.1192, 0.2751,\n",
      "        0.3088, 0.2487, 0.3286, 0.0830, 0.1916, 0.2569, 0.1006, 0.1396, 0.0707,\n",
      "        0.1322, 0.1249, 0.1278, 0.0527, 0.3302, 0.1446, 0.1008, 0.1383, 0.0849,\n",
      "        0.1506, 0.1368, 0.3349, 0.1273, 0.1486, 0.3024, 0.0967, 0.0899, 0.3787,\n",
      "        0.3625, 0.1010, 0.1313, 0.1331, 0.5811, 0.3308, 0.1670, 0.2523, 0.0813,\n",
      "        0.1440, 0.1561, 0.3260, 0.1213, 0.1059, 0.1120, 0.1103, 0.5032, 0.1059,\n",
      "        0.1486, 0.1921, 0.3024]), 'PADDED_NEWS': tensor([0., 0., 0., 0., 0., 0., 0., 0., 0., 0., 0., 0., 0., 0., 0., 0., 0., 0., 0., 0., 0., 0., 0., 0.,\n",
      "        0., 0., 0., 0., 0., 0., 0., 0., 0., 0., 0., 0., 0., 0., 0., 0., 0., 0., 0., 0., 0., 0., 0., 0.,\n",
      "        0., 0., 0., 0., 0., 0., 0., 0., 0., 0., 0., 0., 0., 0., 0., 0., 0., 0., 0., 0., 0., 0., 0., 0.,\n",
      "        0., 0., 0., 0., 0., 0., 0., 0., 0., 0., 0., 0., 0., 0., 0., 0., 0., 0., 0., 0., 0., 0., 0., 0.,\n",
      "        0., 0., 0., 0., 0., 0., 0., 0., 0., 0., 0., 0., 0., 0., 0., 0., 0., 0., 0., 0., 0., 0., 0., 0.,\n",
      "        0., 0., 0., 0., 0., 0., 0., 0., 0., 0., 0., 0., 0., 0., 0., 0., 0., 0., 0., 0., 0., 0., 0., 0.,\n",
      "        0., 0., 0., 0., 0., 0., 0., 0., 0., 0., 0., 0., 0., 0., 0., 0., 0., 0., 0., 0., 0., 0., 0., 0.,\n",
      "        0., 0., 0., 0., 0., 0., 0., 0., 0., 0., 0., 0., 0., 0., 0., 0., 0., 0., 0., 0., 0., 0., 0., 0.,\n",
      "        0., 0., 0., 0., 0., 0., 0., 0., 0., 0., 0., 0., 0., 0., 0., 0., 0., 0., 0., 0., 0., 0., 0., 0.,\n",
      "        0., 0., 0., 0., 0., 0., 0., 0., 0., 0., 0., 0., 0., 0., 0., 0., 0., 0., 0., 0., 0., 0., 0., 0.,\n",
      "        0., 0., 0., 0., 0., 0., 0., 0., 0., 0., 0., 0., 0., 0., 0., 0., 0., 0., 0., 0., 0., 0., 0., 0.,\n",
      "        0., 0., 0., 0., 0., 0., 0., 0., 0., 0., 0., 0., 0., 0., 0., 0., 0., 0., 0., 0., 0., 0., 0., 0.,\n",
      "        0., 0., 0., 0., 0., 0., 0., 0., 0., 0., 0., 0.])}\n"
     ]
    },
    {
     "name": "stderr",
     "output_type": "stream",
     "text": [
      "Calculating probabilities:   0%|          | 1/73152 [00:04<86:03:28,  4.24s/it]"
     ]
    },
    {
     "name": "stdout",
     "output_type": "stream",
     "text": [
      "before ---------------\n",
      "after -------------\n",
      "before ---------------\n"
     ]
    },
    {
     "name": "stderr",
     "output_type": "stream",
     "text": [
      "Exception ignored in: <function _MultiProcessingDataLoaderIter.__del__ at 0x1638e20c0>\n",
      "Traceback (most recent call last):\n",
      "  File \"/Library/Frameworks/Python.framework/Versions/3.11/lib/python3.11/site-packages/torch/utils/data/dataloader.py\", line 1478, in __del__\n",
      "    self._shutdown_workers()\n",
      "  File \"/Library/Frameworks/Python.framework/Versions/3.11/lib/python3.11/site-packages/torch/utils/data/dataloader.py\", line 1442, in _shutdown_workers\n",
      "    w.join(timeout=_utils.MP_STATUS_CHECK_INTERVAL)\n",
      "  File \"/Library/Frameworks/Python.framework/Versions/3.11/lib/python3.11/multiprocessing/process.py\", line 149, in join\n",
      "    res = self._popen.wait(timeout)\n",
      "          ^^^^^^^^^^^^^^^^^^^^^^^^^\n",
      "  File \"/Library/Frameworks/Python.framework/Versions/3.11/lib/python3.11/multiprocessing/popen_fork.py\", line 40, in wait\n",
      "    if not wait([self.sentinel], timeout):\n",
      "           ^^^^^^^^^^^^^^^^^^^^^^^^^^^^^^\n",
      "  File \"/Library/Frameworks/Python.framework/Versions/3.11/lib/python3.11/multiprocessing/connection.py\", line 930, in wait\n",
      "    ready = selector.select(timeout)\n",
      "            ^^^^^^^^^^^^^^^^^^^^^^^^\n",
      "  File \"/Library/Frameworks/Python.framework/Versions/3.11/lib/python3.11/selectors.py\", line 415, in select\n",
      "    fd_event_list = self._selector.poll(timeout)\n",
      "                    ^^^^^^^^^^^^^^^^^^^^^^^^^^^^\n",
      "KeyboardInterrupt: \n",
      "Calculating probabilities:   0%|          | 1/73152 [00:19<394:01:08, 19.39s/it]\n"
     ]
    },
    {
     "ename": "IndexError",
     "evalue": "invalid index of a 0-dim tensor. Use `tensor.item()` in Python or `tensor.item<T>()` in C++ to convert a 0-dim tensor to a number",
     "output_type": "error",
     "traceback": [
      "\u001b[0;31m---------------------------------------------------------------------------\u001b[0m",
      "\u001b[0;31mIndexError\u001b[0m                                Traceback (most recent call last)",
      "Cell \u001b[0;32mIn[2], line 1\u001b[0m\n\u001b[0;32m----> 1\u001b[0m auc, mrr, ndcg5, ndcg10 \u001b[39m=\u001b[39m evaluate(model, \u001b[39m'\u001b[39;49m\u001b[39m../data/NewsNudge\u001b[39;49m\u001b[39m'\u001b[39;49m, config\u001b[39m.\u001b[39;49mnum_workers)\n",
      "File \u001b[0;32m/Library/Frameworks/Python.framework/Versions/3.11/lib/python3.11/site-packages/torch/utils/_contextlib.py:115\u001b[0m, in \u001b[0;36mcontext_decorator.<locals>.decorate_context\u001b[0;34m(*args, **kwargs)\u001b[0m\n\u001b[1;32m    112\u001b[0m \u001b[39m@functools\u001b[39m\u001b[39m.\u001b[39mwraps(func)\n\u001b[1;32m    113\u001b[0m \u001b[39mdef\u001b[39;00m \u001b[39mdecorate_context\u001b[39m(\u001b[39m*\u001b[39margs, \u001b[39m*\u001b[39m\u001b[39m*\u001b[39mkwargs):\n\u001b[1;32m    114\u001b[0m     \u001b[39mwith\u001b[39;00m ctx_factory():\n\u001b[0;32m--> 115\u001b[0m         \u001b[39mreturn\u001b[39;00m func(\u001b[39m*\u001b[39;49margs, \u001b[39m*\u001b[39;49m\u001b[39m*\u001b[39;49mkwargs)\n",
      "File \u001b[0;32m~/Library/Mobile Documents/com~apple~CloudDocs/Documents/NewsNudge/NewsRecommendation/src/NN_evaluate.py:252\u001b[0m, in \u001b[0;36mevaluate\u001b[0;34m(model, directory, num_workers, max_count)\u001b[0m\n\u001b[1;32m    250\u001b[0m     \u001b[39mbreak\u001b[39;00m\n\u001b[1;32m    251\u001b[0m \u001b[39mprint\u001b[39m(\u001b[39m'\u001b[39m\u001b[39mbefore ---------------\u001b[39m\u001b[39m'\u001b[39m)\n\u001b[0;32m--> 252\u001b[0m candidate_news_vector \u001b[39m=\u001b[39m torch\u001b[39m.\u001b[39mstack([\n\u001b[1;32m    253\u001b[0m     news2vector[news[\u001b[39m0\u001b[39;49m]\u001b[39m.\u001b[39;49msplit(\u001b[39m'\u001b[39;49m\u001b[39m-\u001b[39;49m\u001b[39m'\u001b[39;49m)[\u001b[39m0\u001b[39;49m]]\n\u001b[1;32m    254\u001b[0m     \u001b[39mfor\u001b[39;49;00m news \u001b[39min\u001b[39;49;00m minibatch[\u001b[39m'\u001b[39;49m\u001b[39mimpressions\u001b[39;49m\u001b[39m'\u001b[39;49m]\n\u001b[1;32m    255\u001b[0m ],\n\u001b[1;32m    256\u001b[0m                                     dim\u001b[39m=\u001b[39m\u001b[39m0\u001b[39m)\n\u001b[1;32m    257\u001b[0m \u001b[39mprint\u001b[39m(\u001b[39m'\u001b[39m\u001b[39mafter -------------\u001b[39m\u001b[39m'\u001b[39m)\n\u001b[1;32m    258\u001b[0m user_vector \u001b[39m=\u001b[39m user2vector[minibatch[\u001b[39m'\u001b[39m\u001b[39mclicked_news_string\u001b[39m\u001b[39m'\u001b[39m][\u001b[39m0\u001b[39m]]\n",
      "File \u001b[0;32m~/Library/Mobile Documents/com~apple~CloudDocs/Documents/NewsNudge/NewsRecommendation/src/NN_evaluate.py:253\u001b[0m, in \u001b[0;36m<listcomp>\u001b[0;34m(.0)\u001b[0m\n\u001b[1;32m    250\u001b[0m     \u001b[39mbreak\u001b[39;00m\n\u001b[1;32m    251\u001b[0m \u001b[39mprint\u001b[39m(\u001b[39m'\u001b[39m\u001b[39mbefore ---------------\u001b[39m\u001b[39m'\u001b[39m)\n\u001b[1;32m    252\u001b[0m candidate_news_vector \u001b[39m=\u001b[39m torch\u001b[39m.\u001b[39mstack([\n\u001b[0;32m--> 253\u001b[0m     news2vector[news[\u001b[39m0\u001b[39;49m]\u001b[39m.\u001b[39msplit(\u001b[39m'\u001b[39m\u001b[39m-\u001b[39m\u001b[39m'\u001b[39m)[\u001b[39m0\u001b[39m]]\n\u001b[1;32m    254\u001b[0m     \u001b[39mfor\u001b[39;00m news \u001b[39min\u001b[39;00m minibatch[\u001b[39m'\u001b[39m\u001b[39mimpressions\u001b[39m\u001b[39m'\u001b[39m]\n\u001b[1;32m    255\u001b[0m ],\n\u001b[1;32m    256\u001b[0m                                     dim\u001b[39m=\u001b[39m\u001b[39m0\u001b[39m)\n\u001b[1;32m    257\u001b[0m \u001b[39mprint\u001b[39m(\u001b[39m'\u001b[39m\u001b[39mafter -------------\u001b[39m\u001b[39m'\u001b[39m)\n\u001b[1;32m    258\u001b[0m user_vector \u001b[39m=\u001b[39m user2vector[minibatch[\u001b[39m'\u001b[39m\u001b[39mclicked_news_string\u001b[39m\u001b[39m'\u001b[39m][\u001b[39m0\u001b[39m]]\n",
      "\u001b[0;31mIndexError\u001b[0m: invalid index of a 0-dim tensor. Use `tensor.item()` in Python or `tensor.item<T>()` in C++ to convert a 0-dim tensor to a number"
     ]
    }
   ],
   "source": []
  },
  {
   "cell_type": "code",
   "execution_count": null,
   "metadata": {},
   "outputs": [],
   "source": []
  }
 ],
 "metadata": {
  "kernelspec": {
   "display_name": "Python 3",
   "language": "python",
   "name": "python3"
  },
  "language_info": {
   "codemirror_mode": {
    "name": "ipython",
    "version": 3
   },
   "file_extension": ".py",
   "mimetype": "text/x-python",
   "name": "python",
   "nbconvert_exporter": "python",
   "pygments_lexer": "ipython3",
   "version": "3.11.4"
  },
  "orig_nbformat": 4
 },
 "nbformat": 4,
 "nbformat_minor": 2
}
